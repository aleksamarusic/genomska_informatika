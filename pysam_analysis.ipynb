{
 "cells": [
  {
   "cell_type": "code",
   "execution_count": 182,
   "metadata": {},
   "outputs": [],
   "source": [
    "# import libraries\n",
    "import pysam\n",
    "import pprint"
   ]
  },
  {
   "cell_type": "code",
   "execution_count": 183,
   "metadata": {},
   "outputs": [],
   "source": [
    "# create an alignment file for \"merged-tumor.bam\", located in /sbgenomics/project-files/\n",
    "alignmentFile = pysam.AlignmentFile(\"/sbgenomics/project-files/merged-tumor.bam\", \"rb\")"
   ]
  },
  {
   "cell_type": "code",
   "execution_count": 184,
   "metadata": {},
   "outputs": [],
   "source": [
    "# initialize variables for later\n",
    "firstRead = {}\n",
    "fields = ['query_name', 'flag', 'mapping_quality', 'cigartuples', 'query_length', 'query_sequence', 'reference_name',\n",
    "          'reference_start', 'next_reference_name', 'next_reference_start', 'query_qualities', 'tags']\n",
    "numberOfFirstFlagsToCheck = 10\n",
    "flags = []\n",
    "numberOfReads = 0\n",
    "numberOfUnmappedReads = 0\n",
    "numberOfZeroMappingQualityReads = 0\n",
    "numberOfNonZeroMappingQualityReads = 0\n",
    "totalMappingQuality = 0\n",
    "totalNonZeroMappingQuality = 0\n",
    "averageMappingQuality = 0\n",
    "averageNonZeroMappingQuality = 0\n",
    "firstFlagAnalysis = \"1187 = 0x4A3\\n\\\n",
    "0x4A3 = 0x400 + 0x080 + 0x020 + 0x002 + 0x001\\n\\\n",
    "0x001 => Segment is paired in sequencing\\n\\\n",
    "0x002 => Segment is mapped in a proper pair - normally inferred during alignment\\n\\\n",
    "0x020 => Strand of the mate\\n\\\n",
    "0x080 => Segment is the second read in a pair\\n\\\n",
    "0x400 => Segment is either a PCR duplicate or an optical duplicate\\n\\n\""
   ]
  },
  {
   "cell_type": "code",
   "execution_count": 185,
   "metadata": {},
   "outputs": [
    {
     "name": "stdout",
     "output_type": "stream",
     "text": [
      "Flag of the first read: 1187\n",
      "1187 = 0x4A3\n",
      "0x4A3 = 0x400 + 0x080 + 0x020 + 0x002 + 0x001\n",
      "0x001 => Segment is paired in sequencing\n",
      "0x002 => Segment is mapped in a proper pair - normally inferred during alignment\n",
      "0x020 => Strand of the mate\n",
      "0x080 => Segment is the second read in a pair\n",
      "0x400 => Segment is either a PCR duplicate or an optical duplicate\n",
      "\n",
      "AlignedSegment fields and values of the first read:\n",
      "{'cigartuples': [(0, 76)],\n",
      " 'flag': 1187,\n",
      " 'mapping_quality': 27,\n",
      " 'next_reference_name': '21',\n",
      " 'next_reference_start': 9483381,\n",
      " 'query_length': 76,\n",
      " 'query_name': 'C0HVYACXX120402:7:1207:5722:57044',\n",
      " 'query_qualities': array('B', [28, 28, 27, 29, 31, 30, 31, 31, 29, 31, 35, 30, 29, 31, 34, 30, 29, 23, 41, 32, 20, 30, 29, 34, 34, 29, 30, 31, 30, 30, 30, 33, 33, 26, 39, 12, 25, 19, 32, 30, 35, 28, 35, 33, 23, 33, 35, 36, 30, 38, 33, 41, 34, 35, 31, 33, 23, 30, 30, 36, 27, 32, 29, 34, 35, 41, 33, 31, 33, 29, 32, 32, 31, 31, 31, 34]),\n",
      " 'query_sequence': 'TTTTCAAACAGTATCTATGCCTGCCAAATGTGAACATATAAAAAAAAACCAGAATGTGCCATTCTGATTTAAACTG',\n",
      " 'reference_name': '21',\n",
      " 'reference_start': 9483248,\n",
      " 'tags': [('XA', 'GL000217.1,-110754,76M,1;'),\n",
      "          ('BD',\n",
      "           'NNNNNNNNNNNNNNNNNNNNNNNNNNNNNNNNNNNNNNNNNNNNNNNNNNNNNNNNNNNNNNNNNNNNNNNNNNNN'),\n",
      "          ('MD', '76'),\n",
      "          ('RG', '1'),\n",
      "          ('BI',\n",
      "           'NNNNNNNNNNNNNNNNNNNNNNNNNNNNNNNNNNNNNNNNNNNNNNNNNNNNNNNNNNNNNNNNNNNNNNNNNNNN'),\n",
      "          ('NM', 0),\n",
      "          ('MQ', 27),\n",
      "          ('AS', 76),\n",
      "          ('XS', 71)]}\n"
     ]
    }
   ],
   "source": [
    "# iterating over reads\n",
    "for read in alignmentFile:\n",
    "    # updating (total) number of reads and a sum for mapping quality of all reads\n",
    "    numberOfReads += 1\n",
    "    totalMappingQuality += read.mapping_quality\n",
    "    \n",
    "    # if it is a first read, inspect aligned segment fields\n",
    "    if numberOfReads == 1:\n",
    "        print(\"Flag of the first read: \" + str(read.flag) + \"\\n\" + firstFlagAnalysis + \n",
    "              \"AlignedSegment fields and values of the first read:\")\n",
    "        for ind in range(len(fields)):\n",
    "            firstRead[fields[ind]] = getattr(read, fields[ind])\n",
    "        pprint.pprint(firstRead)\n",
    "    \n",
    "    # check out flags for some (first numberOfFirstFlagsToCheck) reads\n",
    "    if numberOfReads <= numberOfFirstFlagsToCheck:\n",
    "        flags.append(read.flag)\n",
    "    \n",
    "    # updating number of unmapped reads in the file\n",
    "    if read.is_unmapped:\n",
    "        numberOfUnmappedReads += 1\n",
    "        \n",
    "    # updating number of reads with zero quality mapping\n",
    "    if read.mapping_quality == 0:\n",
    "        numberOfZeroMappingQualityReads += 1\n",
    "    # updating number of reads and a sum for a non-zero quality mapping reads\n",
    "    else:    \n",
    "        numberOfNonZeroMappingQualityReads += 1\n",
    "        totalNonZeroMappingQuality += read.mapping_quality\n",
    "\n",
    "alignmentFile.close()\n",
    "        \n",
    "# calculate averages\n",
    "averageMappingQuality = totalMappingQuality / numberOfReads\n",
    "averageNonZeroMappingQuality = totalNonZeroMappingQuality / numberOfNonZeroMappingQualityReads"
   ]
  },
  {
   "cell_type": "code",
   "execution_count": 186,
   "metadata": {},
   "outputs": [
    {
     "name": "stdout",
     "output_type": "stream",
     "text": [
      "Flags of the first 10 reads: \n",
      "1187\n",
      "163\n",
      "99\n",
      "99\n",
      "99\n",
      "163\n",
      "99\n",
      "1123\n",
      "99\n",
      "1123\n"
     ]
    }
   ],
   "source": [
    "print(\"Flags of the first \" + str(numberOfFirstFlagsToCheck) + \" reads: \")\n",
    "for flag in flags:\n",
    "    print(flag)"
   ]
  },
  {
   "cell_type": "code",
   "execution_count": 187,
   "metadata": {},
   "outputs": [
    {
     "name": "stdout",
     "output_type": "stream",
     "text": [
      "Number of unmapped reads in the file: 17765\n",
      "Total number of reads in the file: 2921629\n",
      "Number of reads with zero mapping quality: 126628\n",
      "Average mapping quality: 55.91379158681681\n",
      "Average non-zero mapping quality: 58.446975510921106\n"
     ]
    }
   ],
   "source": [
    "print(\"Number of unmapped reads in the file: \" + str(numberOfUnmappedReads))\n",
    "print(\"Total number of reads in the file: \" + str(numberOfReads))\n",
    "print(\"Number of reads with zero mapping quality: \" + str(numberOfZeroMappingQualityReads))\n",
    "print(\"Average mapping quality: {}\".format(averageMappingQuality))\n",
    "print(\"Average non-zero mapping quality: {}\".format(averageNonZeroMappingQuality))"
   ]
  },
  {
   "cell_type": "code",
   "execution_count": null,
   "metadata": {},
   "outputs": [],
   "source": []
  }
 ],
 "metadata": {
  "kernelspec": {
   "display_name": "Python 3",
   "language": "python",
   "name": "python3"
  },
  "language_info": {
   "codemirror_mode": {
    "name": "ipython",
    "version": 3
   },
   "file_extension": ".py",
   "mimetype": "text/x-python",
   "name": "python",
   "nbconvert_exporter": "python",
   "pygments_lexer": "ipython3",
   "version": "3.6.3"
  }
 },
 "nbformat": 4,
 "nbformat_minor": 2
}
